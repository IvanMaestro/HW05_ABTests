{
 "cells": [
  {
   "cell_type": "code",
   "execution_count": 1,
   "id": "7539972e",
   "metadata": {},
   "outputs": [],
   "source": [
    "from math import sqrt\n",
    "import scipy.stats\n",
    "from statsmodels.stats.proportion import proportion_effectsize\n",
    "from statsmodels.stats.power import TTestIndPower\n",
    "import numpy as np\n",
    "import scipy.stats as stats"
   ]
  },
  {
   "cell_type": "markdown",
   "id": "6a1962a8",
   "metadata": {},
   "source": [
    "## Задача 1"
   ]
  },
  {
   "cell_type": "markdown",
   "id": "b770bb3e",
   "metadata": {},
   "source": [
    "Вы провели эксперимент c упрощением формы заказа в магазине Утконос и получили результаты по метрике конверсий в покупку. Выберите метод оценки и оцените есть ли стат.значимые различия между конверсиями в двух группах при alpha = 5%. Дайте краткие рекомендации команде .Результаты:\n",
    "- Число юзеров в группах , которые заходили на сайт в период эксперимента: n1 = 15550 и n2 = 15550 . \n",
    "- Число юзеров в группах , которые совершили хотя бы одну покупку за период эксперимента: n1 = 164 и n2 = 228\n",
    "- Конверсии : conv1 = 1.05% conv2 = 1.47% ."
   ]
  },
  {
   "cell_type": "markdown",
   "id": "e3da2b82",
   "metadata": {},
   "source": [
    "### Решение 1"
   ]
  },
  {
   "cell_type": "code",
   "execution_count": 2,
   "id": "cca0f392",
   "metadata": {},
   "outputs": [],
   "source": [
    "n_users_1, n_users_2 = 15_550, 15_550\n",
    "n_users_1_conv, n_users_2_conv = 164, 228\n",
    "conv_1, conv_2 = n_users_1_conv/n_users_1, n_users_2_conv/n_users_2"
   ]
  },
  {
   "cell_type": "code",
   "execution_count": 3,
   "id": "17690f42",
   "metadata": {},
   "outputs": [
    {
     "name": "stdout",
     "output_type": "stream",
     "text": [
      "['0.164%', '0.66%']\n"
     ]
    }
   ],
   "source": [
    "var_1 = conv_1 * (1 - conv_1) / n_users_1\n",
    "var_2 = conv_2 * (1 - conv_2) / n_users_2\n",
    "left = np.round(\n",
    "    (conv_2 - conv_1 - 1.96 * (var_1 + var_2) ** .5) * 100,\n",
    "    3)\n",
    "right = np.round(\n",
    "    (conv_2 - conv_1 + 1.96 * (var_1 + var_2) ** .5) * 100,\n",
    "    3)\n",
    "ci = [f\"{left}%\", f\"{right}%\"]\n",
    "print(ci)"
   ]
  },
  {
   "cell_type": "markdown",
   "id": "cbcd1042",
   "metadata": {},
   "source": [
    "Методе оценки: метод доверительного интервала<br>\n",
    "Если 0 не входит в доверительный интервал, то значит, на основе собранных данных между группами имеется статистически значимая разница, следовательно, принимаем Альтернативную гипотезу: (упрощение формы заказа в магазине Утконос)."
   ]
  },
  {
   "cell_type": "markdown",
   "id": "9086cbb5",
   "metadata": {},
   "source": [
    "### Решение 2 (с семинара)"
   ]
  },
  {
   "cell_type": "code",
   "execution_count": 4,
   "id": "bf9e7c76",
   "metadata": {},
   "outputs": [
    {
     "data": {
      "text/plain": [
       "{'lift': 0.3902439024390243,\n",
       " 'se_control': 0.0008218270404826454,\n",
       " 'se_test': 0.0009669807620454625,\n",
       " 'z_core': 3.253677121726018,\n",
       " 'p_value': 0.0011392168150319737,\n",
       " 'ci': [0.0016417223858688043, 0.006616342130260227]}"
      ]
     },
     "execution_count": 4,
     "metadata": {},
     "output_type": "execute_result"
    }
   ],
   "source": [
    "def calc_z_di(total_control, total_test, n_control, n_test):\n",
    "    \n",
    "    сonv_control = n_control / total_control\n",
    "    conv_test = n_test / total_test\n",
    "    \n",
    "    lift = (conv_test - сonv_control) / сonv_control\n",
    "    \n",
    "    SE_control = sqrt(сonv_control * (1 - сonv_control) / total_control)\n",
    "    SE_test = sqrt(conv_test * (1 - conv_test) / total_test)  \n",
    "    SE_diff = sqrt(SE_control ** 2 + SE_test ** 2)\n",
    "    z_core = (conv_test - сonv_control) / SE_diff\n",
    "    pvalue = scipy.stats.norm.sf(abs(z_core)) * 2\n",
    "    \n",
    "    left = conv_test - сonv_control - 1.96 * SE_diff\n",
    "    right = conv_test - сonv_control + 1.96 * SE_diff\n",
    "\n",
    "    result = { \"lift\" : lift,\n",
    "     \"se_control\" : SE_control,\n",
    "     \"se_test\" : SE_test,\n",
    "     \"z_core\" : z_core,\n",
    "     \"p_value\" : pvalue,\n",
    "     \"ci\" : [left, right]}\n",
    "     \n",
    "    return result \n",
    "calc_z_di (total_control=15500,total_test=15500,n_control=164, n_test=228)"
   ]
  },
  {
   "cell_type": "markdown",
   "id": "2787a310",
   "metadata": {},
   "source": [
    "## Задача 2"
   ]
  },
  {
   "cell_type": "markdown",
   "id": "523d33e5",
   "metadata": {},
   "source": [
    "Сравниваем метрику конверсия в покупку. Размер выборки - 10000 элементов в каждой группе.<br> \n",
    "Какой статистический критерий тут лучше всего подойдёт и почему ?"
   ]
  },
  {
   "cell_type": "markdown",
   "id": "01e750f9",
   "metadata": {},
   "source": [
    "При решении задач сравнения конверсий в покупку с помощью χ²(хи-квадрат)-теста.<br>\n",
    "Предпочтительнее использовать χ²-тест на независимость, проводимый по таблице сопряженности, поскольку он обеспечивает оптимальные результаты с точки зрения ошибок первого и второго рода при сравнении двух и более воронок.<br>\n",
    "[Информацию взял тут](https://habr.com/ru/company/mygames/blog/677074/)"
   ]
  },
  {
   "cell_type": "code",
   "execution_count": null,
   "id": "b4e3eb5e",
   "metadata": {},
   "outputs": [],
   "source": []
  }
 ],
 "metadata": {
  "kernelspec": {
   "display_name": "Python 3 (ipykernel)",
   "language": "python",
   "name": "python3"
  },
  "language_info": {
   "codemirror_mode": {
    "name": "ipython",
    "version": 3
   },
   "file_extension": ".py",
   "mimetype": "text/x-python",
   "name": "python",
   "nbconvert_exporter": "python",
   "pygments_lexer": "ipython3",
   "version": "3.9.13"
  }
 },
 "nbformat": 4,
 "nbformat_minor": 5
}
